{
 "cells": [
  {
   "cell_type": "code",
   "execution_count": 12,
   "id": "f76f9f8b",
   "metadata": {},
   "outputs": [],
   "source": [
    "def base_4_convert(i):\n",
    "    result = []\n",
    "    while i > 0:\n",
    "            result.insert(0, i % 4)\n",
    "            i = i // 4\n",
    "    return result\n",
    "\n",
    "def base_4_convert2(i):\n",
    "    arr=base_4_convert(i)\n",
    "    n=len(arr)\n",
    "    for x in range (9-n):\n",
    "        arr.insert(0,0)\n",
    "    return arr  \n",
    "import numpy as np\n",
    "initial_state=np.array([3,3,0,2,2,2,2,1,2])\n",
    "key_1=np.array([ 1,1,0,1,1,0,0,0,0 ])\n",
    "key_2=np.array([ 1,1,1,0,0,0,0,0,0 ])\n",
    "key_3=np.array([ 0,1,1,0,1,1,0,0,0 ])\n",
    "key_4=np.array([ 1,0,0,1,0,0,1,0,0 ])\n",
    "key_5=np.array([ 0,1,0,1,1,1,0,1,0 ])\n",
    "key_6=np.array([ 0,0,1,0,0,1,0,0,1 ])\n",
    "key_7=np.array([ 0,0,0,1,1,0,1,1,0 ])\n",
    "key_8=np.array([ 0,0,0,0,0,0,1,1,1 ])\n",
    "key_9=np.array([ 0,0,0,0,1,1,0,1,1 ])\n",
    "key_table=[key_1,key_2,key_3,key_4,key_5,key_6,key_7,key_8,key_9]"
   ]
  },
  {
   "cell_type": "code",
   "execution_count": 18,
   "id": "08693764",
   "metadata": {},
   "outputs": [
    {
     "ename": "TypeError",
     "evalue": "range() takes no keyword arguments",
     "output_type": "error",
     "traceback": [
      "\u001b[1;31m---------------------------------------------------------------------------\u001b[0m",
      "\u001b[1;31mTypeError\u001b[0m                                 Traceback (most recent call last)",
      "Input \u001b[1;32mIn [18]\u001b[0m, in \u001b[0;36m<cell line: 1>\u001b[1;34m()\u001b[0m\n\u001b[1;32m----> 1\u001b[0m \u001b[38;5;28;01mfor\u001b[39;00m x \u001b[38;5;129;01min\u001b[39;00m \u001b[38;5;28;43mrange\u001b[39;49m\u001b[43m \u001b[49m\u001b[43m(\u001b[49m\u001b[38;5;241;43m4\u001b[39;49m\u001b[38;5;241;43m*\u001b[39;49m\u001b[38;5;241;43m*\u001b[39;49m\u001b[38;5;241;43m9\u001b[39;49m\u001b[43m,\u001b[49m\u001b[43mstep\u001b[49m\u001b[38;5;241;43m=\u001b[39;49m\u001b[38;5;241;43m2\u001b[39;49m\u001b[43m)\u001b[49m:\n\u001b[0;32m      2\u001b[0m     initial_state1\u001b[38;5;241m=\u001b[39minitial_state\n\u001b[0;32m      3\u001b[0m     flag1\u001b[38;5;241m=\u001b[39m\u001b[38;5;241m0\u001b[39m\n",
      "\u001b[1;31mTypeError\u001b[0m: range() takes no keyword arguments"
     ]
    }
   ],
   "source": [
    "for x in range (4**9,step=2):\n",
    "    initial_state1=initial_state\n",
    "    flag1=0\n",
    "    arr=base_4_convert2(x)\n",
    "    for x in range(9):\n",
    "        initial_state1=initial_state1+arr[8-x]*key_table[x]\n",
    "    for x in range(9):\n",
    "        if (initial_state1[x] ) % 4 ==0:\n",
    "            flag1=flag1+1  \n",
    "        if  flag1==9 :\n",
    "            print( \"the sloution is use this key\")\n",
    "            for x in range (9):\n",
    "                if arr[x]!=0 :\n",
    "                    print(9-x)\n",
    "            print (initial_state1)\n",
    "            break "
   ]
  },
  {
   "cell_type": "code",
   "execution_count": null,
   "id": "4196c4e3",
   "metadata": {},
   "outputs": [],
   "source": []
  }
 ],
 "metadata": {
  "kernelspec": {
   "display_name": "Python 3 (ipykernel)",
   "language": "python",
   "name": "python3"
  },
  "language_info": {
   "codemirror_mode": {
    "name": "ipython",
    "version": 3
   },
   "file_extension": ".py",
   "mimetype": "text/x-python",
   "name": "python",
   "nbconvert_exporter": "python",
   "pygments_lexer": "ipython3",
   "version": "3.9.12"
  }
 },
 "nbformat": 4,
 "nbformat_minor": 5
}
